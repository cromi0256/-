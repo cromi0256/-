{
  "nbformat": 4,
  "nbformat_minor": 0,
  "metadata": {
    "colab": {
      "provenance": [],
      "authorship_tag": "ABX9TyNgrmKiB44txSLLR40FHqqT",
      "include_colab_link": true
    },
    "kernelspec": {
      "name": "python3",
      "display_name": "Python 3"
    },
    "language_info": {
      "name": "python"
    }
  },
  "cells": [
    {
      "cell_type": "markdown",
      "metadata": {
        "id": "view-in-github",
        "colab_type": "text"
      },
      "source": [
        "<a href=\"https://colab.research.google.com/github/cromi0256/Study01/blob/main/11%EC%9E%A5_%EB%B9%84%EB%AA%A8%EC%88%98%EA%B2%80%EC%A0%95.ipynb\" target=\"_parent\"><img src=\"https://colab.research.google.com/assets/colab-badge.svg\" alt=\"Open In Colab\"/></a>"
      ]
    },
    {
      "cell_type": "code",
      "execution_count": 1,
      "metadata": {
        "id": "_zUeXgQb81pu"
      },
      "outputs": [],
      "source": [
        "#비모수 검정\n",
        "#모수에 대한 가정 없이 검정\n",
        "#모집단의 분포에 가정하지 않음\n",
        "#집단의 분포가 정규분포가 아니거나, 표본의 크기가 작거나, 서열척도(또는 명목척도도인 경우 사용"
      ]
    },
    {
      "cell_type": "code",
      "source": [
        "import numpy as np\n",
        "import scipy.stats as sp\n",
        "\n",
        "#11-1 카이제곱 검정\n",
        "#적합성 검정:관측값이 특정한 값이나 이론적 분포를 따르는지 검정\n",
        "data1=np.array([400,440,380,350])\n",
        "#H0=관측값은 서로 동일하다, H1=관측값은 차이가 있다\n",
        "m0=data1.mean()\n",
        "cstat,p = sp.chisquare(data1,m0)\n",
        "print(f'검정통계량:{cstat}  (p-value:{p})')\n",
        "#검정 결과 관측값은 서로 다른 분포에서 왔다"
      ],
      "metadata": {
        "id": "KOVQBENZ-y3s",
        "colab": {
          "base_uri": "https://localhost:8080/"
        },
        "outputId": "4ca2fde3-6d1d-4067-90d9-dc7410f6be5a"
      },
      "execution_count": 2,
      "outputs": [
        {
          "output_type": "stream",
          "name": "stdout",
          "text": [
            "검정통계량:10.891719745222929  (p-value:0.01232603124556947)\n"
          ]
        }
      ]
    },
    {
      "cell_type": "code",
      "source": [
        "#독립성 검정:한 모집단 내 두 인자의 관찰값이 서로 영향을 주는지 검정\n",
        "import pandas as pd\n",
        "data2=pd.DataFrame({'나이':['10대','30대'],'통과':[700,200],'실패':[300,100]}).set_index('나이')\n",
        "print(data2)"
      ],
      "metadata": {
        "colab": {
          "base_uri": "https://localhost:8080/"
        },
        "id": "OP9VFxEyBIBF",
        "outputId": "836c6197-0060-4e9d-ded4-9bea15ec2ec4"
      },
      "execution_count": 3,
      "outputs": [
        {
          "output_type": "stream",
          "name": "stdout",
          "text": [
            "      통과   실패\n",
            "나이           \n",
            "10대  700  300\n",
            "30대  200  100\n"
          ]
        }
      ]
    },
    {
      "cell_type": "code",
      "source": [
        "chi2,p,df,expec=sp.chi2_contingency(data2,correction=False)\n",
        "print(f'검정통계량:{chi2} (p-value{p})')\n",
        "#나이와 통과여부는 서로 독립임(귀무가설 채택)"
      ],
      "metadata": {
        "colab": {
          "base_uri": "https://localhost:8080/"
        },
        "id": "Ibihely7F759",
        "outputId": "61b80e6c-bcb5-436d-e968-327397ad2869"
      },
      "execution_count": 4,
      "outputs": [
        {
          "output_type": "stream",
          "name": "stdout",
          "text": [
            "검정통계량:1.2037037037037033 (p-value0.27258268190765333)\n"
          ]
        }
      ]
    },
    {
      "cell_type": "code",
      "source": [
        "#동질성 검정:여러 모집단 간 수준에 대한 차이\n",
        "#H0:모든 집단의 분포는 차이가 없다, H1:적어도 한 그룹은 분포 상 차이가 있다\n",
        "data3=pd.DataFrame({'과목':['국어','영어','수학'],'A반':[80,70,60],\n",
        "                    'B반':[55,60,50],'C반':[70,75,30]}).set_index('과목')\n",
        "chi2,p,df,expec=sp.chi2_contingency(data3,correction=False)\n",
        "print('기댓값',expec)\n",
        "print(f'검정통계량:{chi2} (p-value{p})')"
      ],
      "metadata": {
        "colab": {
          "base_uri": "https://localhost:8080/"
        },
        "id": "LvTLYHNRHTNa",
        "outputId": "930f9c0e-41ea-40ea-e5c9-14165318db67"
      },
      "execution_count": 5,
      "outputs": [
        {
          "output_type": "stream",
          "name": "stdout",
          "text": [
            "기댓값 [[78.27272727 61.5        65.22727273]\n",
            " [78.27272727 61.5        65.22727273]\n",
            " [53.45454545 42.         44.54545455]]\n",
            "검정통계량:10.524307283889163 (p-value0.03246380561134725)\n"
          ]
        }
      ]
    },
    {
      "cell_type": "code",
      "source": [
        "#일표본 Run검정\n",
        "#H0:샘플은 무작위로 추출되었다  H1:샘플은 무작위로 추출되지 않았다\n",
        "from statsmodels.sandbox.stats.runs import runstest_1samp\n",
        "data4=['전진','전진','후진','중립','전진','중립','중립','중립','후진','전진','전진']\n",
        "from sklearn.preprocessing import LabelEncoder\n",
        "le=LabelEncoder()\n",
        "data4=le.fit_transform(data4)\n",
        "print(data4)\n",
        "r1stat,p=runstest_1samp(data4,cutoff='median')\n",
        "print(f'검정통계량:{r1stat} (p-value{p})')"
      ],
      "metadata": {
        "colab": {
          "base_uri": "https://localhost:8080/"
        },
        "id": "NeCqZtWHJT7y",
        "outputId": "9aa5591e-2901-4dd6-ae70-3160d231db05"
      },
      "execution_count": 6,
      "outputs": [
        {
          "output_type": "stream",
          "name": "stdout",
          "text": [
            "[0 0 2 1 0 1 1 1 2 0 0]\n",
            "검정통계량:-0.6123724356957942 (p-value0.54029137460742)\n"
          ]
        }
      ]
    },
    {
      "cell_type": "code",
      "source": [
        "#이표본 Run검정\n",
        "#H0:두 데이터는 같은 분포에서 왔다  H1:두 데이터는 다른 분포에서 왔다\n",
        "from statsmodels.sandbox.stats.runs import runstest_2samp\n",
        "np.random.seed(1234)\n",
        "data5=[220,204,243,226,215,208,233,234]\n",
        "data6=[230,999,222,217,236,238]\n",
        "r2stat,p=runstest_2samp(data5,data6)\n",
        "print(f'검정통계량:{r2stat} (p-value{p})')"
      ],
      "metadata": {
        "colab": {
          "base_uri": "https://localhost:8080/"
        },
        "id": "ZntvstoNK7Mu",
        "outputId": "da80cc2c-282b-4a83-ddb4-258a59550cfe"
      },
      "execution_count": 7,
      "outputs": [
        {
          "output_type": "stream",
          "name": "stdout",
          "text": [
            "검정통계량:0.9346671291301643 (p-value0.34995987200686984)\n"
          ]
        }
      ]
    },
    {
      "cell_type": "code",
      "source": [
        "#11-3 이항변수 데이터 검정\n",
        "#맥니머 검정:대응관계인 두 변수의 데이터 분포 차이 검정\n",
        "data7=pd.DataFrame([[7,11],[16,35]],index=['전_긍정','전_부정'],columns=['후_긍정','후_부정'])\n",
        "from statsmodels.stats.contingency_tables import mcnemar\n",
        "result=mcnemar(data7.values,exact=False,correction=False)\n",
        "print(data7)\n",
        "print(result)"
      ],
      "metadata": {
        "id": "Aw4t40Z7OGtR",
        "colab": {
          "base_uri": "https://localhost:8080/"
        },
        "outputId": "619778d9-c406-42b7-a69b-7855408ac746"
      },
      "execution_count": 31,
      "outputs": [
        {
          "output_type": "stream",
          "name": "stdout",
          "text": [
            "      후_긍정  후_부정\n",
            "전_긍정     7    11\n",
            "전_부정    16    35\n",
            "pvalue      0.3359238131517329\n",
            "statistic   0.9259259259259259\n"
          ]
        }
      ]
    },
    {
      "cell_type": "code",
      "source": [
        "#코크란Q 검정:대응관계가 셋 이상인 데이터 분포 차이 검정\n",
        "from statsmodels.stats.contingency_tables import cochrans_q"
      ],
      "metadata": {
        "id": "okdt4viRCz54"
      },
      "execution_count": 34,
      "outputs": []
    },
    {
      "cell_type": "code",
      "source": [
        "#11-4부호 순위 검정\n",
        "#Wilcoxon 부호 순위 검정:단일 표본이나 대응관계인 두 서열척도의 표본 중앙값 비교\n",
        "#scipy.stats.wilcoxon\n",
        "\n",
        "#Wilcoxon 순위합 검정: 서열척도이며 서로 독립인 두 표본의 차이비교\n",
        "#scipy.stats.[ranksums, mannwhitneyu]"
      ],
      "metadata": {
        "id": "Ergj7ZU-EmF_"
      },
      "execution_count": 36,
      "outputs": []
    },
    {
      "cell_type": "code",
      "source": [
        "#11-5 k표본 순위 데이터 검정\n",
        "#크러스컬 윌리스 검정:세 변수 이상 대응관계가 없는 데이터 차이 검정(일원배치 분산분석의 비모수 검정)\n",
        "#사후검정:윌콕슨 순위합검정\n",
        "#scipy.stats.kruskal"
      ],
      "metadata": {
        "id": "qnSznEI2GvcB"
      },
      "execution_count": 35,
      "outputs": []
    },
    {
      "cell_type": "code",
      "source": [
        "#프리드먼 검정:세 변수 이상 대응관계가 있는 데이터 차이 검정\n",
        "#사후검정:윌콕슨 부호순위검정\n",
        "#scipy.stats.friedmanchisquare"
      ],
      "metadata": {
        "id": "6Dl2iuzaHltv"
      },
      "execution_count": 37,
      "outputs": []
    }
  ]
}