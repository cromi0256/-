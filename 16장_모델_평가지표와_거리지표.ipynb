{
  "nbformat": 4,
  "nbformat_minor": 0,
  "metadata": {
    "colab": {
      "provenance": [],
      "authorship_tag": "ABX9TyM9+kNoW2xdUz4JFc70jUu2",
      "include_colab_link": true
    },
    "kernelspec": {
      "name": "python3",
      "display_name": "Python 3"
    },
    "language_info": {
      "name": "python"
    }
  },
  "cells": [
    {
      "cell_type": "markdown",
      "metadata": {
        "id": "view-in-github",
        "colab_type": "text"
      },
      "source": [
        "<a href=\"https://colab.research.google.com/github/cromi0256/Study01/blob/main/16%EC%9E%A5_%EB%AA%A8%EB%8D%B8_%ED%8F%89%EA%B0%80%EC%A7%80%ED%91%9C%EC%99%80_%EA%B1%B0%EB%A6%AC%EC%A7%80%ED%91%9C.ipynb\" target=\"_parent\"><img src=\"https://colab.research.google.com/assets/colab-badge.svg\" alt=\"Open In Colab\"/></a>"
      ]
    },
    {
      "cell_type": "code",
      "execution_count": null,
      "metadata": {
        "id": "9jcL_9tRHMtU"
      },
      "outputs": [],
      "source": [
        "#16-1 회귀모델 평가 지표\n",
        "reg_metric=\"\"\"\n",
        "ME=Mean Error : 실제값-예측값의 평균\n",
        "MAE=Mean Absolute Error : 실제값에서 예측값을 뺀 절댓값의 평균\n",
        "  #sklearn.metrics.mean_absolute_error(y_true,y_pred)\n",
        "MAPE=Mean Absolute Percentage Error : MAE의 비율\n",
        "  #sklearn.metrics.mean_absolute_percentage_error(y_true,y_pred)\n",
        "MSE=Mean Squared Error : 실제값에서 예측값의 차이를 제곱한 평균\n",
        "  #...mean_squared_error(y_true,y_pred)\n",
        "RMSE=Root Mean Squared Error : MSE의 제곱근\n",
        "  #np.sqrt(MSE) or ...root_mean_squared_error\n",
        "R^2=Explained variance score : 결정계수(모델의 설명력)\n",
        "  #sklearn.metrics.explained_variance_score(y_true,y_pred)\n",
        "  #sklearn.metrics.r2_score(y_true,y_pred)\n",
        "MSLE=Mean Squared Log Error : 실제값에서 예측값의 차이를 제곱한 평균\n",
        "  #sklearn.metrics.mean_squared_log_error(y_true,y_pred)\n",
        "RMSLE=Root Mean Square Logarithmic Error : MSLE의 제곱근\n",
        "\n",
        "AIC=Akaike's information criterion:여러 선형 회귀 모형의 성능을 비교\n",
        "BIC=Bayesian information criterion:변수 추가에 더 강한 패널티\n",
        "\"\"\""
      ]
    },
    {
      "cell_type": "code",
      "source": [
        "#16-2 분류모델 평가 지표\n",
        "clf_metric=\"\"\"\n",
        "Accuracy=정확도 : 예측결과가 동일한 데이터 건수/전체 예측 데이터 건수\n",
        "  (TP+TN)/(TP+TN+FP+FN)\n",
        "  #sklearn.metrics.accuracy_score(y_true,y_pred)\n",
        "Precision=정밀도 : 양성 예측값/양성 예측값+음성 예측값\n",
        "  TP/(TP+FP)  *양성이라 판단한* 데이터 중에서 옳게 예측한 비율\n",
        "  #sklearn.metrics.precision_score(y_true,y_pred)\n",
        "Recall=재현율 : 양성 예측값/양성 예측값+음성 예측값\n",
        "  TP/(TP+FN) *실제양성* 데이터 중에서 옳게 예측한 비율\n",
        "  #sklearn.metrics.recall_score(y_true,y_pred)\n",
        "  Specificity=특이도 : 음성 예측값/음성 예측값+양성 예측값\n",
        "    TN/(TN+FP) *실제음성* 데이터 중에서 옳게 예측한 비율\n",
        "F1-score=F1 스코어 : 정밀도와 재현율의 조화 평균\n",
        "  2*정밀도*재현율/(정밀도+재현율)\n",
        "  #sklearn.metrics.f1_score(y_true,y_pred)\n",
        "Classification report=precision,recall,f1-score,accuracy를 한번에 보여줌\n",
        "  #sklearn.metrics.classification_report(y_true,y_pred)\n",
        "\n",
        "Precision-recall curve : 정밀도-재현율 곡선\n",
        "  최적의 확률 임곗값을 추정\n",
        "  #sklearn.metrics.precision_recall_curve(y_true,y_pred)\n",
        "Confusion matrix : 오차행렬(혼동행렬) 반환\n",
        "  #sklearn.metrics.confusion_matrix(y_true,y_pred)\n",
        "    Multilabel confusion matrix : 다중 레이블 분류의 오차행렬\n",
        "      #sklearn.metrics.multilabel_confusion_matrix(y_true,y_pred)\n",
        "\n",
        "ROC curve : FPR-TPR 곡선\n",
        "  #sklearn.metrics.roc_curve(y_true,y_pred)\n",
        "AUC score : ROC 곡선 아래 면적\n",
        "  #sklearn.metrics.roc_auc_score(y_true,y_pred)\n",
        "\n",
        "Log loss : 로그 손실\n",
        "  #sklearn.metrics.log_loss(y_true,y_pred)\n",
        "\"\"\""
      ],
      "metadata": {
        "id": "y5TIvQeJRfiu"
      },
      "execution_count": null,
      "outputs": []
    },
    {
      "cell_type": "code",
      "source": [
        "#16-3 군집 모형 평가 지표\n",
        "#실제 군집값이 없는 경우 + 시각화 가능\n",
        "#실루엣 계수 : 군집 내 응집도와 군집 간 분리도 이용\n",
        "from sklearn.metrics import silhouette_score\n",
        "#=silhouette_score(X,labels)\n",
        "\n",
        "#군집내 SSE(inertia) : 엘보우 지점 이용\n",
        "#.inertia_\n",
        "\n",
        "#실제 군집값이 있는 경우\n",
        "#ARI : sklearn.metrics.adjusted_rand_score(labels_true,labels_pred)\n",
        "#V-measure : Homogeneity score와 Completeness score의 조화 평균\n",
        "  #Homogeneity score(동질성) : 모든 클러스터가 동일한 클래스의 데이터만 포함\n",
        "  #Completeness score(완전성) : 동일 클래스의 데이터가 동일 클러스터에 포함"
      ],
      "metadata": {
        "id": "Jl2CF9C3RnRx"
      },
      "execution_count": 2,
      "outputs": []
    },
    {
      "cell_type": "code",
      "source": [
        "#16-4 거리 지표\n",
        "#연속형 변수\n",
        "#유클라디안 거리 > 표준화거리 : scipy.spatial.distance.(s)euclidean\n",
        "#맨하탄 거리 : scipy.spatial.cityblock\n",
        "#마할라노비스 거리(통계적 개념 포함) : scipy.spatial.distance.mahalanobis\n",
        "#민코프스키 : scipy.spatial.distance.minkowski\n",
        "\n",
        "#범주형변수\n",
        "#자카드 거리(두 개체간의 유사도) : scipy.spatial.distance.jaccard\n",
        "#코사인 거리(두 객체 벡터 내적의 코사인) : scipy.spatial.distance.cosine"
      ],
      "metadata": {
        "id": "Do89yzehHbY5"
      },
      "execution_count": null,
      "outputs": []
    }
  ]
}