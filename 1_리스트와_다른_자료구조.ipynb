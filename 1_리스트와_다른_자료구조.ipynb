{
  "nbformat": 4,
  "nbformat_minor": 0,
  "metadata": {
    "colab": {
      "provenance": [],
      "authorship_tag": "ABX9TyMolO28sTA5AsICrLjkIHFs",
      "include_colab_link": true
    },
    "kernelspec": {
      "name": "python3",
      "display_name": "Python 3"
    },
    "language_info": {
      "name": "python"
    }
  },
  "cells": [
    {
      "cell_type": "markdown",
      "metadata": {
        "id": "view-in-github",
        "colab_type": "text"
      },
      "source": [
        "<a href=\"https://colab.research.google.com/github/cromi0256/Study01/blob/main/1_%EB%A6%AC%EC%8A%A4%ED%8A%B8%EC%99%80_%EB%8B%A4%EB%A5%B8_%EC%9E%90%EB%A3%8C%EA%B5%AC%EC%A1%B0.ipynb\" target=\"_parent\"><img src=\"https://colab.research.google.com/assets/colab-badge.svg\" alt=\"Open In Colab\"/></a>"
      ]
    },
    {
      "cell_type": "markdown",
      "source": [
        "#1장 리스트: [ ]\n",
        "리스트는 중복가능, 여러 데이터 유형 혼합가능\n",
        "\n",
        "추가,삭제 편집 가능\n"
      ],
      "metadata": {
        "id": "8BE75R872C74"
      }
    },
    {
      "cell_type": "code",
      "execution_count": 57,
      "metadata": {
        "colab": {
          "base_uri": "https://localhost:8080/"
        },
        "id": "r35OHvFzzAWd",
        "outputId": "afed36a8-c50b-4255-88f1-fa8b824e3d22"
      },
      "outputs": [
        {
          "output_type": "stream",
          "name": "stdout",
          "text": [
            "['a', 'b', 1, 3.14, 'a', None]\n",
            "['apple', 'banana', 1.5, True]\n",
            "len과 type 6 <class 'list'>\n",
            "['a', 'b', 1, 3.14, 'a', None, 'apple', 'banana', 1.5, True]\n",
            "['a', 'b', 1, 3.14, 'a', None, 'a', 'b', 1, 3.14, 'a', None, 'a', 'b', 1, 3.14, 'a', None]\n"
          ]
        }
      ],
      "source": [
        "#1-1 리스트 생성\n",
        "\n",
        "example=['a','b',1,3.14,'a',None]\n",
        "print(example)\n",
        "another=['apple','banana',3/2,True]\n",
        "print(another)\n",
        "\n",
        "print('len과 type',len(example),type(example))\n",
        "\n",
        "ea=example+another\n",
        "e3=example*3\n",
        "print(ea)\n",
        "print(e3)"
      ]
    },
    {
      "cell_type": "code",
      "source": [
        "import numpy as np\n",
        "\n",
        "range1=list(i for i in range(10,100,10)) #반복문 호출\n",
        "print(range1)\n",
        "\n",
        "range2=[i for i in range(200,0,-20)]\n",
        "print(range2)\n",
        "\n",
        "range3=np.arange(100,0,-10) #넘파이는 ndarray로 저장됨\n",
        "print(range3)\n",
        "\n",
        "range4=np.random.randint(20,30,5)\n",
        "print(range4)\n",
        "\n",
        "print(type(range1),type(range4))\n",
        "range5=list(range4) #리스트로 변경\n",
        "print(type(range5))"
      ],
      "metadata": {
        "colab": {
          "base_uri": "https://localhost:8080/"
        },
        "id": "xPg6TKev3NDr",
        "outputId": "16b3bc34-e4e0-43dc-b229-319dd8a3736b"
      },
      "execution_count": 20,
      "outputs": [
        {
          "output_type": "stream",
          "name": "stdout",
          "text": [
            "[10, 20, 30, 40, 50, 60, 70, 80, 90]\n",
            "[200, 180, 160, 140, 120, 100, 80, 60, 40, 20]\n",
            "[100  90  80  70  60  50  40  30  20  10]\n",
            "[22 28 25 24 22]\n",
            "<class 'list'> <class 'numpy.ndarray'>\n",
            "<class 'list'>\n"
          ]
        }
      ]
    },
    {
      "cell_type": "code",
      "source": [
        "#1-2 리스트 요소 추출\n",
        "\n",
        "print(range1[3]) #4번째 요소 추출\n",
        "print(range1[2:6]) #3~6번째 요소 추출\n",
        "print(range1[-1]) #마지막 요소 추출\n",
        "print(range1[:-2]) #뒤에서 2번째까지 제외\n",
        "print(range1[::2]) #간격을 두고 추출"
      ],
      "metadata": {
        "colab": {
          "base_uri": "https://localhost:8080/"
        },
        "id": "SXaSarxX6SPP",
        "outputId": "53ea8fd6-8f31-4566-de91-4675c4d0ae7d"
      },
      "execution_count": 25,
      "outputs": [
        {
          "output_type": "stream",
          "name": "stdout",
          "text": [
            "40\n",
            "[30, 40, 50, 60]\n",
            "90\n",
            "[10, 20, 30, 40, 50, 60, 70]\n",
            "[10, 30, 50, 70, 90]\n"
          ]
        }
      ]
    },
    {
      "cell_type": "code",
      "source": [
        "print(range1.index(50)) #50의 value를 가진 index추출\n",
        "print(range1.count(50)) #50의 개수 추출"
      ],
      "metadata": {
        "colab": {
          "base_uri": "https://localhost:8080/"
        },
        "id": "spj-8Ce07m4x",
        "outputId": "9a1d4a65-e808-4224-8911-16397fdbe7af"
      },
      "execution_count": 29,
      "outputs": [
        {
          "output_type": "stream",
          "name": "stdout",
          "text": [
            "4\n",
            "1\n"
          ]
        }
      ]
    },
    {
      "cell_type": "code",
      "source": [
        "#1-3 리스트 편집\n",
        "number=[1,2,3,4,5,6,7]\n",
        "print(number,'\\n')\n",
        "\n",
        "number.append(8)\n",
        "number.extend([9,10,11])\n",
        "number=number+[12,13]\n",
        "\n",
        "print(number)\n",
        "\n",
        "various=number+[['a','b','c'],'end']\n",
        "print(various)"
      ],
      "metadata": {
        "colab": {
          "base_uri": "https://localhost:8080/"
        },
        "id": "qhyVFevE8XTE",
        "outputId": "d4c1285b-aa94-440d-c351-03c33d7eeaeb"
      },
      "execution_count": 48,
      "outputs": [
        {
          "output_type": "stream",
          "name": "stdout",
          "text": [
            "[1, 2, 3, 4, 5, 6, 7] \n",
            "\n",
            "[1, 2, 3, 4, 5, 6, 7, 8, 9, 10, 11, 12, 13]\n",
            "[1, 2, 3, 4, 5, 6, 7, 8, 9, 10, 11, 12, 13, ['a', 'b', 'c'], 'end']\n"
          ]
        }
      ]
    },
    {
      "cell_type": "code",
      "source": [
        "various.pop(3) #4번째 요소 삭제(index)\n",
        "various.remove('end') #value로 삭제\n",
        "print(various)"
      ],
      "metadata": {
        "colab": {
          "base_uri": "https://localhost:8080/"
        },
        "id": "xw_C8PMy9Ca1",
        "outputId": "c50f2a88-366c-4a8b-f86b-37a1e08f6ca8"
      },
      "execution_count": 49,
      "outputs": [
        {
          "output_type": "stream",
          "name": "stdout",
          "text": [
            "[1, 2, 3, 5, 6, 7, 8, 9, 10, 11, 12, 13, ['a', 'b', 'c']]\n"
          ]
        }
      ]
    },
    {
      "cell_type": "code",
      "source": [
        "#1-4 그외 메서드\n",
        "mixture=[1,5,3,9]\n",
        "print(mixture)\n",
        "mixture.sort(reverse=False) #오름차순 정렬\n",
        "print(mixture)\n",
        "mixture.sort(reverse=True) #내림차순 정렬\n",
        "print(mixture)"
      ],
      "metadata": {
        "colab": {
          "base_uri": "https://localhost:8080/"
        },
        "id": "wZJ8rbJF-fgd",
        "outputId": "39bdf085-1598-4e4a-808a-a0051955f26b"
      },
      "execution_count": 56,
      "outputs": [
        {
          "output_type": "stream",
          "name": "stdout",
          "text": [
            "[1, 5, 3, 9]\n",
            "[1, 3, 5, 9]\n",
            "[9, 5, 3, 1]\n"
          ]
        }
      ]
    },
    {
      "cell_type": "code",
      "source": [
        "string='coffee/cake/ice_cream'\n",
        "split=string.split('/') #문자열 나누기\n",
        "print(string,'\\n',split)\n",
        "\n",
        "join=':'.join(split)  #문자열 합성\n",
        "print(join)\n"
      ],
      "metadata": {
        "colab": {
          "base_uri": "https://localhost:8080/"
        },
        "id": "dwpWbwO0_Myh",
        "outputId": "041030af-427c-4046-8548-e0bf61da9282"
      },
      "execution_count": 60,
      "outputs": [
        {
          "output_type": "stream",
          "name": "stdout",
          "text": [
            "coffee/cake/ice_cream \n",
            " ['coffee', 'cake', 'ice_cream']\n",
            "coffee:cake:ice_cream\n"
          ]
        }
      ]
    },
    {
      "cell_type": "code",
      "source": [
        "#1-5 다른 데이터 구조\n",
        "tuple1=(1,3,5,7,9)  #튜플 : 변경불가\n",
        "print(tuple1,type(tuple1))\n",
        "\n",
        "set1={2,4,6,8,10} #셋 : 고유요소만 저장(중복불가)\n",
        "print(set1,type(set1))\n",
        "set2=set(tuple1)\n",
        "print(set2,type(set2))\n",
        "\n",
        "dict1={'a':1,'b':2,'c':3} #딕셔너리 : 키와 밸류를 가짐\n",
        "print(dict1,type(dict1))\n",
        "print(dict1['b'])\n",
        "print(dict1.keys())\n",
        "print(dict1.values())\n",
        "print(dict1.items())"
      ],
      "metadata": {
        "colab": {
          "base_uri": "https://localhost:8080/"
        },
        "id": "lY5KigDpAaN9",
        "outputId": "09e61114-cbe0-47bd-d443-e5ae34e19274"
      },
      "execution_count": 77,
      "outputs": [
        {
          "output_type": "stream",
          "name": "stdout",
          "text": [
            "(1, 3, 5, 7, 9) <class 'tuple'>\n",
            "{2, 4, 6, 8, 10} <class 'set'>\n",
            "{1, 3, 5, 7, 9} <class 'set'>\n",
            "{'a': 1, 'b': 2, 'c': 3} <class 'dict'>\n",
            "2\n",
            "dict_keys(['a', 'b', 'c'])\n",
            "dict_values([1, 2, 3])\n",
            "dict_items([('a', 1), ('b', 2), ('c', 3)])\n"
          ]
        }
      ]
    },
    {
      "cell_type": "code",
      "source": [
        "# +포맷팅\n",
        "color=['red','blue','yellow']\n",
        "print('My favorite color is {}'.format(color[1]))\n",
        "print(f'My favorite color is {color[-1]}')\n",
        "print('My favorite color is %s' %color[0])"
      ],
      "metadata": {
        "colab": {
          "base_uri": "https://localhost:8080/"
        },
        "id": "ByCboVFsA3HE",
        "outputId": "74069316-b0a5-4b02-e2cc-73015270b8c3"
      },
      "execution_count": 81,
      "outputs": [
        {
          "output_type": "stream",
          "name": "stdout",
          "text": [
            "My favorite color is blue\n",
            "My favorite color is yellow\n",
            "My favorite color is red\n"
          ]
        }
      ]
    },
    {
      "cell_type": "code",
      "source": [],
      "metadata": {
        "id": "hPk4tseeEScT"
      },
      "execution_count": null,
      "outputs": []
    }
  ]
}