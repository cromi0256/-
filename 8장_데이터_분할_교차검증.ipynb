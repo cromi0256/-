{
  "nbformat": 4,
  "nbformat_minor": 0,
  "metadata": {
    "colab": {
      "provenance": [],
      "authorship_tag": "ABX9TyM+s9ojL+6PlLVeFakLJCL5",
      "include_colab_link": true
    },
    "kernelspec": {
      "name": "python3",
      "display_name": "Python 3"
    },
    "language_info": {
      "name": "python"
    }
  },
  "cells": [
    {
      "cell_type": "markdown",
      "metadata": {
        "id": "view-in-github",
        "colab_type": "text"
      },
      "source": [
        "<a href=\"https://colab.research.google.com/github/cromi0256/Study01/blob/main/8%EC%9E%A5_%EB%8D%B0%EC%9D%B4%ED%84%B0_%EB%B6%84%ED%95%A0_%EA%B5%90%EC%B0%A8%EA%B2%80%EC%A6%9D.ipynb\" target=\"_parent\"><img src=\"https://colab.research.google.com/assets/colab-badge.svg\" alt=\"Open In Colab\"/></a>"
      ]
    },
    {
      "cell_type": "code",
      "execution_count": 3,
      "metadata": {
        "colab": {
          "base_uri": "https://localhost:8080/",
          "height": 204
        },
        "id": "b3_BwNvWtgur",
        "outputId": "211382eb-59b9-4e24-b3dd-8f71193424ba"
      },
      "outputs": [
        {
          "output_type": "execute_result",
          "data": {
            "text/plain": [
              "   sepal length (cm)  sepal width (cm)  petal length (cm)  petal width (cm)  \\\n",
              "0                5.1               3.5                1.4               0.2   \n",
              "1                4.9               3.0                1.4               0.2   \n",
              "2                4.7               3.2                1.3               0.2   \n",
              "3                4.6               3.1                1.5               0.2   \n",
              "4                5.0               3.6                1.4               0.2   \n",
              "\n",
              "   target  \n",
              "0       0  \n",
              "1       0  \n",
              "2       0  \n",
              "3       0  \n",
              "4       0  "
            ],
            "text/html": [
              "\n",
              "  <div id=\"df-07ba660b-95ca-481e-8922-65bfc050f0eb\" class=\"colab-df-container\">\n",
              "    <div>\n",
              "<style scoped>\n",
              "    .dataframe tbody tr th:only-of-type {\n",
              "        vertical-align: middle;\n",
              "    }\n",
              "\n",
              "    .dataframe tbody tr th {\n",
              "        vertical-align: top;\n",
              "    }\n",
              "\n",
              "    .dataframe thead th {\n",
              "        text-align: right;\n",
              "    }\n",
              "</style>\n",
              "<table border=\"1\" class=\"dataframe\">\n",
              "  <thead>\n",
              "    <tr style=\"text-align: right;\">\n",
              "      <th></th>\n",
              "      <th>sepal length (cm)</th>\n",
              "      <th>sepal width (cm)</th>\n",
              "      <th>petal length (cm)</th>\n",
              "      <th>petal width (cm)</th>\n",
              "      <th>target</th>\n",
              "    </tr>\n",
              "  </thead>\n",
              "  <tbody>\n",
              "    <tr>\n",
              "      <th>0</th>\n",
              "      <td>5.1</td>\n",
              "      <td>3.5</td>\n",
              "      <td>1.4</td>\n",
              "      <td>0.2</td>\n",
              "      <td>0</td>\n",
              "    </tr>\n",
              "    <tr>\n",
              "      <th>1</th>\n",
              "      <td>4.9</td>\n",
              "      <td>3.0</td>\n",
              "      <td>1.4</td>\n",
              "      <td>0.2</td>\n",
              "      <td>0</td>\n",
              "    </tr>\n",
              "    <tr>\n",
              "      <th>2</th>\n",
              "      <td>4.7</td>\n",
              "      <td>3.2</td>\n",
              "      <td>1.3</td>\n",
              "      <td>0.2</td>\n",
              "      <td>0</td>\n",
              "    </tr>\n",
              "    <tr>\n",
              "      <th>3</th>\n",
              "      <td>4.6</td>\n",
              "      <td>3.1</td>\n",
              "      <td>1.5</td>\n",
              "      <td>0.2</td>\n",
              "      <td>0</td>\n",
              "    </tr>\n",
              "    <tr>\n",
              "      <th>4</th>\n",
              "      <td>5.0</td>\n",
              "      <td>3.6</td>\n",
              "      <td>1.4</td>\n",
              "      <td>0.2</td>\n",
              "      <td>0</td>\n",
              "    </tr>\n",
              "  </tbody>\n",
              "</table>\n",
              "</div>\n",
              "    <div class=\"colab-df-buttons\">\n",
              "      \n",
              "  <div class=\"colab-df-container\">\n",
              "    <button class=\"colab-df-convert\" onclick=\"convertToInteractive('df-07ba660b-95ca-481e-8922-65bfc050f0eb')\"\n",
              "            title=\"Convert this dataframe to an interactive table.\"\n",
              "            style=\"display:none;\">\n",
              "      \n",
              "  <svg xmlns=\"http://www.w3.org/2000/svg\" height=\"24px\" viewBox=\"0 -960 960 960\">\n",
              "    <path d=\"M120-120v-720h720v720H120Zm60-500h600v-160H180v160Zm220 220h160v-160H400v160Zm0 220h160v-160H400v160ZM180-400h160v-160H180v160Zm440 0h160v-160H620v160ZM180-180h160v-160H180v160Zm440 0h160v-160H620v160Z\"/>\n",
              "  </svg>\n",
              "    </button>\n",
              "    \n",
              "  <style>\n",
              "    .colab-df-container {\n",
              "      display:flex;\n",
              "      gap: 12px;\n",
              "    }\n",
              "\n",
              "    .colab-df-convert {\n",
              "      background-color: #E8F0FE;\n",
              "      border: none;\n",
              "      border-radius: 50%;\n",
              "      cursor: pointer;\n",
              "      display: none;\n",
              "      fill: #1967D2;\n",
              "      height: 32px;\n",
              "      padding: 0 0 0 0;\n",
              "      width: 32px;\n",
              "    }\n",
              "\n",
              "    .colab-df-convert:hover {\n",
              "      background-color: #E2EBFA;\n",
              "      box-shadow: 0px 1px 2px rgba(60, 64, 67, 0.3), 0px 1px 3px 1px rgba(60, 64, 67, 0.15);\n",
              "      fill: #174EA6;\n",
              "    }\n",
              "\n",
              "    .colab-df-buttons div {\n",
              "      margin-bottom: 4px;\n",
              "    }\n",
              "\n",
              "    [theme=dark] .colab-df-convert {\n",
              "      background-color: #3B4455;\n",
              "      fill: #D2E3FC;\n",
              "    }\n",
              "\n",
              "    [theme=dark] .colab-df-convert:hover {\n",
              "      background-color: #434B5C;\n",
              "      box-shadow: 0px 1px 3px 1px rgba(0, 0, 0, 0.15);\n",
              "      filter: drop-shadow(0px 1px 2px rgba(0, 0, 0, 0.3));\n",
              "      fill: #FFFFFF;\n",
              "    }\n",
              "  </style>\n",
              "\n",
              "    <script>\n",
              "      const buttonEl =\n",
              "        document.querySelector('#df-07ba660b-95ca-481e-8922-65bfc050f0eb button.colab-df-convert');\n",
              "      buttonEl.style.display =\n",
              "        google.colab.kernel.accessAllowed ? 'block' : 'none';\n",
              "\n",
              "      async function convertToInteractive(key) {\n",
              "        const element = document.querySelector('#df-07ba660b-95ca-481e-8922-65bfc050f0eb');\n",
              "        const dataTable =\n",
              "          await google.colab.kernel.invokeFunction('convertToInteractive',\n",
              "                                                    [key], {});\n",
              "        if (!dataTable) return;\n",
              "\n",
              "        const docLinkHtml = 'Like what you see? Visit the ' +\n",
              "          '<a target=\"_blank\" href=https://colab.research.google.com/notebooks/data_table.ipynb>data table notebook</a>'\n",
              "          + ' to learn more about interactive tables.';\n",
              "        element.innerHTML = '';\n",
              "        dataTable['output_type'] = 'display_data';\n",
              "        await google.colab.output.renderOutput(dataTable, element);\n",
              "        const docLink = document.createElement('div');\n",
              "        docLink.innerHTML = docLinkHtml;\n",
              "        element.appendChild(docLink);\n",
              "      }\n",
              "    </script>\n",
              "  </div>\n",
              "  \n",
              "    </div>\n",
              "  </div>\n",
              "  "
            ],
            "application/vnd.google.colaboratory.intrinsic+json": {
              "type": "dataframe",
              "variable_name": "data",
              "summary": "{\n  \"name\": \"data\",\n  \"rows\": 150,\n  \"fields\": [\n    {\n      \"column\": \"sepal length (cm)\",\n      \"properties\": {\n        \"dtype\": \"number\",\n        \"std\": 0.8280661279778629,\n        \"min\": 4.3,\n        \"max\": 7.9,\n        \"num_unique_values\": 35,\n        \"samples\": [\n          6.2,\n          4.5,\n          5.6\n        ],\n        \"semantic_type\": \"\",\n        \"description\": \"\"\n      }\n    },\n    {\n      \"column\": \"sepal width (cm)\",\n      \"properties\": {\n        \"dtype\": \"number\",\n        \"std\": 0.435866284936698,\n        \"min\": 2.0,\n        \"max\": 4.4,\n        \"num_unique_values\": 23,\n        \"samples\": [\n          2.3,\n          4.0,\n          3.5\n        ],\n        \"semantic_type\": \"\",\n        \"description\": \"\"\n      }\n    },\n    {\n      \"column\": \"petal length (cm)\",\n      \"properties\": {\n        \"dtype\": \"number\",\n        \"std\": 1.7652982332594667,\n        \"min\": 1.0,\n        \"max\": 6.9,\n        \"num_unique_values\": 43,\n        \"samples\": [\n          6.7,\n          3.8,\n          3.7\n        ],\n        \"semantic_type\": \"\",\n        \"description\": \"\"\n      }\n    },\n    {\n      \"column\": \"petal width (cm)\",\n      \"properties\": {\n        \"dtype\": \"number\",\n        \"std\": 0.7622376689603465,\n        \"min\": 0.1,\n        \"max\": 2.5,\n        \"num_unique_values\": 22,\n        \"samples\": [\n          0.2,\n          1.2,\n          1.3\n        ],\n        \"semantic_type\": \"\",\n        \"description\": \"\"\n      }\n    },\n    {\n      \"column\": \"target\",\n      \"properties\": {\n        \"dtype\": \"number\",\n        \"std\": 0,\n        \"min\": 0,\n        \"max\": 2,\n        \"num_unique_values\": 3,\n        \"samples\": [\n          0,\n          1,\n          2\n        ],\n        \"semantic_type\": \"\",\n        \"description\": \"\"\n      }\n    }\n  ]\n}"
            }
          },
          "metadata": {},
          "execution_count": 3
        }
      ],
      "source": [
        "#8-2 데이터분할\n",
        "import pandas as pd\n",
        "from sklearn.datasets import load_iris\n",
        "from sklearn.model_selection import train_test_split\n",
        "iris = load_iris()\n",
        "data=pd.DataFrame(iris.data,columns=iris.feature_names)\n",
        "data['target']=iris.target\n",
        "\n",
        "data.head()"
      ]
    },
    {
      "cell_type": "code",
      "source": [
        "#현재 데이터 크기\n",
        "X=data.drop('target',axis=1)\n",
        "y=data['target']\n",
        "\n",
        "print(X.shape,y.shape)  #150개의 행,4개의 특성"
      ],
      "metadata": {
        "colab": {
          "base_uri": "https://localhost:8080/"
        },
        "id": "9AARec4AtzMj",
        "outputId": "85992332-5c80-415c-f70e-b8addf6bb58c"
      },
      "execution_count": 7,
      "outputs": [
        {
          "output_type": "stream",
          "name": "stdout",
          "text": [
            "(150, 4) (150,)\n"
          ]
        }
      ]
    },
    {
      "cell_type": "code",
      "source": [
        "#일반분할\n",
        "X1_train,X1_test,y1_train,y1_test=train_test_split(X,y,test_size=0.2)\n",
        "print(X1_train.shape)\n",
        "print(X1_test.shape)\n",
        "print(y1_train.shape)\n",
        "print(y1_test.shape)  #120개의 훈련 샘플, 30개의 테스트 샘플"
      ],
      "metadata": {
        "colab": {
          "base_uri": "https://localhost:8080/"
        },
        "id": "ApzFqRbzysC1",
        "outputId": "d98a1ab5-1fbb-478d-a073-dc8b02cdc5a2"
      },
      "execution_count": 8,
      "outputs": [
        {
          "output_type": "stream",
          "name": "stdout",
          "text": [
            "(120, 4)\n",
            "(30, 4)\n",
            "(120,)\n",
            "(30,)\n"
          ]
        }
      ]
    },
    {
      "cell_type": "code",
      "source": [
        "#홀드아웃\n",
        "##테스트 데이터에 과적합을 방지\n",
        "X2_,X2_test,y2_,y2_test=train_test_split(X,y,test_size=0.1) #1차 분할\n",
        "X2_train,X2_val,y2_train,y2_val=train_test_split(X2_,y2_,test_size=0.2) #2차 분할\n",
        "print(X2_train.shape)\n",
        "print(X2_val.shape)\n",
        "print(X2_test.shape)"
      ],
      "metadata": {
        "colab": {
          "base_uri": "https://localhost:8080/"
        },
        "id": "gEAJhOHpzDe_",
        "outputId": "d97bc4f0-8a87-4d31-9d04-fac6378d6ea8"
      },
      "execution_count": 14,
      "outputs": [
        {
          "output_type": "stream",
          "name": "stdout",
          "text": [
            "(108, 4)\n",
            "(27, 4)\n",
            "(15, 4)\n"
          ]
        }
      ]
    },
    {
      "cell_type": "code",
      "source": [
        "#stratify\n",
        "print(y1_train.value_counts())\n",
        "X3_train,X3_test,y3_train,y3_test=train_test_split(X,y,test_size=0.2,stratify=y)\n",
        "print(y3_train.value_counts())  #stratify로 비율을 원본과 같게 만듬\n",
        "##분류모형의 성능을 높일 수 있음"
      ],
      "metadata": {
        "colab": {
          "base_uri": "https://localhost:8080/"
        },
        "id": "9_aJVaRz0eju",
        "outputId": "416b4a67-8694-4eec-d398-b47a8be2f948"
      },
      "execution_count": 12,
      "outputs": [
        {
          "output_type": "stream",
          "name": "stdout",
          "text": [
            "target\n",
            "2    44\n",
            "1    40\n",
            "0    36\n",
            "Name: count, dtype: int64\n",
            "target\n",
            "2    40\n",
            "1    40\n",
            "0    40\n",
            "Name: count, dtype: int64\n"
          ]
        }
      ]
    },
    {
      "source": [
        "#shuffle split\n",
        "from sklearn.model_selection import ShuffleSplit\n",
        "\n",
        "ss = ShuffleSplit(n_splits=5, test_size=0.2)\n",
        "\n",
        "for i, (train_index, test_index) in enumerate(ss.split(X)):\n",
        "    print(f'Fold {i}', \"TEST:\", test_index)\n",
        "#무작위로 여러번 나눠 겹치는 인덱스가 존재할 수 있음"
      ],
      "cell_type": "code",
      "metadata": {
        "colab": {
          "base_uri": "https://localhost:8080/"
        },
        "id": "pi492WIx6FgZ",
        "outputId": "c2a391bb-6e23-4b8c-c705-7d93e0a6e71b"
      },
      "execution_count": 23,
      "outputs": [
        {
          "output_type": "stream",
          "name": "stdout",
          "text": [
            "Fold 0 TEST: [115  22 146   1 100  16 129  89  72  42  79  17  15 102  69 136  49  64\n",
            " 101  78   4  38  80  19 110  70  52  48 119 118]\n",
            "Fold 1 TEST: [ 91 124  81  84  23 140  78 114  75  56  53 132  99  68  12 104   5  31\n",
            "  34  20 134  65  49  86 141  71 128  80  74 103]\n",
            "Fold 2 TEST: [  6 120 149 132  65 103  47  19 138   5  28  86  92  93  76  79  77  31\n",
            "  58 143  78  85  64  26  50  44   4 101  20 107]\n",
            "Fold 3 TEST: [ 86  56 120 103  62 104  97  13  17  61 127 102  93  71 116  27 114  53\n",
            "  58  36 133  87 108  74  15  76  73   0  60   8]\n",
            "Fold 4 TEST: [133 145   8 108 125  99  24  98 103 116  18  62  72  14  45  49  42  17\n",
            " 124  20  48 118 131 120  37  78  41  80  52   4]\n",
            "5\n"
          ]
        }
      ]
    },
    {
      "cell_type": "code",
      "source": [
        "#KFold\n",
        "from sklearn.model_selection import KFold\n",
        "\n",
        "kf=KFold(n_splits=5)\n",
        "\n",
        "for i, (train_index, test_index) in enumerate(kf.split(X)):\n",
        "    print(f'Fold {i}', \"TEST:\", test_index)\n",
        "#모든 데이터가 훈련용, 테스트용으로 쓰임\n",
        "## 비율을 동등하게 만드는 StratifiedKFold\n",
        "## group을 추가로 고려한 GroupKFold"
      ],
      "metadata": {
        "colab": {
          "base_uri": "https://localhost:8080/"
        },
        "id": "PAAFejGZ60tr",
        "outputId": "d224a718-0cee-4462-ba97-1b69d4c110d3"
      },
      "execution_count": 25,
      "outputs": [
        {
          "output_type": "stream",
          "name": "stdout",
          "text": [
            "Fold 0 TEST: [ 0  1  2  3  4  5  6  7  8  9 10 11 12 13 14 15 16 17 18 19 20 21 22 23\n",
            " 24 25 26 27 28 29]\n",
            "Fold 1 TEST: [30 31 32 33 34 35 36 37 38 39 40 41 42 43 44 45 46 47 48 49 50 51 52 53\n",
            " 54 55 56 57 58 59]\n",
            "Fold 2 TEST: [60 61 62 63 64 65 66 67 68 69 70 71 72 73 74 75 76 77 78 79 80 81 82 83\n",
            " 84 85 86 87 88 89]\n",
            "Fold 3 TEST: [ 90  91  92  93  94  95  96  97  98  99 100 101 102 103 104 105 106 107\n",
            " 108 109 110 111 112 113 114 115 116 117 118 119]\n",
            "Fold 4 TEST: [120 121 122 123 124 125 126 127 128 129 130 131 132 133 134 135 136 137\n",
            " 138 139 140 141 142 143 144 145 146 147 148 149]\n"
          ]
        }
      ]
    },
    {
      "cell_type": "code",
      "source": [
        "#8-2 교차검증\n",
        "from sklearn.model_selection import cross_validate\n",
        "from sklearn.linear_model import LogisticRegression\n",
        "lr=LogisticRegression(max_iter=300)\n",
        "scores=cross_validate(lr,X,y,cv=5,return_train_score=True)\n",
        "print(pd.DataFrame(scores))"
      ],
      "metadata": {
        "colab": {
          "base_uri": "https://localhost:8080/"
        },
        "id": "peNbYGJFCZX8",
        "outputId": "7d5baed4-0a1f-4d4c-f6fe-df71a32e797d"
      },
      "execution_count": 29,
      "outputs": [
        {
          "output_type": "stream",
          "name": "stdout",
          "text": [
            "   fit_time  score_time  test_score  train_score\n",
            "0  0.018399    0.002308    0.966667     0.966667\n",
            "1  0.021057    0.002348    1.000000     0.966667\n",
            "2  0.015992    0.002290    0.933333     0.983333\n",
            "3  0.018167    0.002433    0.966667     0.983333\n",
            "4  0.017610    0.002360    1.000000     0.975000\n"
          ]
        }
      ]
    },
    {
      "cell_type": "code",
      "source": [
        "#그리드서치\n",
        "from sklearn.model_selection import GridSearchCV\n",
        "kf=KFold(n_splits=4,shuffle=True)\n",
        "param_grid={'C':[0.01,0.1,1,10,100,500]}\n",
        "grid_search=GridSearchCV(lr,param_grid,cv=kf,return_train_score=True)\n",
        "grid_search.fit(X,y)\n",
        "print('최상의 교차 검증 점수',grid_search.best_score_)\n",
        "print('최적의 매개변수',grid_search.best_params_)\n",
        "print(pd.DataFrame(grid_search.cv_results_))"
      ],
      "metadata": {
        "colab": {
          "base_uri": "https://localhost:8080/"
        },
        "id": "RZWEglTtCsCd",
        "outputId": "58a6c8a2-987b-40a1-a9e9-e5b44cc8d421"
      },
      "execution_count": 38,
      "outputs": [
        {
          "output_type": "stream",
          "name": "stdout",
          "text": [
            "최상의 교차 검증 점수 0.9527027027027026\n",
            "최적의 매개변수 {'C': 10}\n",
            "   mean_fit_time  std_fit_time  mean_score_time  std_score_time  param_C  \\\n",
            "0       0.010325      0.002574         0.002535        0.000480     0.01   \n",
            "1       0.013700      0.000833         0.002343        0.000082     0.10   \n",
            "2       0.019637      0.002384         0.002370        0.000065     1.00   \n",
            "3       0.021012      0.003014         0.002612        0.000255    10.00   \n",
            "4       0.027090      0.006061         0.002446        0.000181   100.00   \n",
            "5       0.012760      0.002863         0.002654        0.000235   500.00   \n",
            "\n",
            "        params  split0_test_score  split1_test_score  split2_test_score  \\\n",
            "0  {'C': 0.01}           0.973684           0.789474           0.702703   \n",
            "1   {'C': 0.1}           1.000000           0.947368           0.891892   \n",
            "2     {'C': 1}           1.000000           0.973684           0.918919   \n",
            "3    {'C': 10}           1.000000           1.000000           0.918919   \n",
            "4   {'C': 100}           1.000000           1.000000           0.918919   \n",
            "5   {'C': 500}           1.000000           1.000000           0.891892   \n",
            "\n",
            "   split3_test_score  mean_test_score  std_test_score  rank_test_score  \\\n",
            "0           0.864865         0.832681        0.099598                6   \n",
            "1           0.864865         0.926031        0.052042                5   \n",
            "2           0.891892         0.946124        0.042847                3   \n",
            "3           0.891892         0.952703        0.048253                1   \n",
            "4           0.891892         0.952703        0.048253                1   \n",
            "5           0.891892         0.945946        0.054054                4   \n",
            "\n",
            "   split0_train_score  split1_train_score  split2_train_score  \\\n",
            "0            0.910714            0.803571            0.814159   \n",
            "1            0.937500            0.937500            0.946903   \n",
            "2            0.955357            0.973214            0.991150   \n",
            "3            0.973214            0.982143            0.991150   \n",
            "4            0.982143            0.973214            1.000000   \n",
            "5            0.982143            0.982143            1.000000   \n",
            "\n",
            "   split3_train_score  mean_train_score  std_train_score  \n",
            "0            0.911504          0.859987         0.051260  \n",
            "1            0.946903          0.942201         0.004701  \n",
            "2            0.982301          0.975506         0.013249  \n",
            "3            0.982301          0.982202         0.006342  \n",
            "4            0.991150          0.986627         0.009991  \n",
            "5            0.991150          0.988859         0.007409  \n"
          ]
        }
      ]
    },
    {
      "cell_type": "code",
      "source": [],
      "metadata": {
        "id": "j_GJEgklDNvK"
      },
      "execution_count": null,
      "outputs": []
    }
  ]
}