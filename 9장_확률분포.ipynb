{
  "nbformat": 4,
  "nbformat_minor": 0,
  "metadata": {
    "colab": {
      "provenance": [],
      "authorship_tag": "ABX9TyOEwSuVxTtFq+FkycokjW9A",
      "include_colab_link": true
    },
    "kernelspec": {
      "name": "python3",
      "display_name": "Python 3"
    },
    "language_info": {
      "name": "python"
    }
  },
  "cells": [
    {
      "cell_type": "markdown",
      "metadata": {
        "id": "view-in-github",
        "colab_type": "text"
      },
      "source": [
        "<a href=\"https://colab.research.google.com/github/cromi0256/Study01/blob/main/9%EC%9E%A5_%ED%99%95%EB%A5%A0%EB%B6%84%ED%8F%AC.ipynb\" target=\"_parent\"><img src=\"https://colab.research.google.com/assets/colab-badge.svg\" alt=\"Open In Colab\"/></a>"
      ]
    },
    {
      "cell_type": "markdown",
      "source": [
        "#9장 확률분포"
      ],
      "metadata": {
        "id": "tFeJJIrZbzGQ"
      }
    },
    {
      "cell_type": "code",
      "execution_count": 1,
      "metadata": {
        "id": "GrjvFCn8bni-"
      },
      "outputs": [],
      "source": [
        "#9-1 이산형 확률분포\n",
        "import scipy.stats as stats\n",
        "import matplotlib.pyplot as plt\n",
        "import numpy as np\n",
        "discrete_introduction=\"\"\"\n",
        "사행횟수=n\n",
        "확률변수=x\n",
        "성공확률=p  #probability\n",
        "(실패확률=q=1-p)\n",
        "성공횟수=k\n",
        "\n",
        "기댓값=E  #Expected\n",
        "분산=V  #Variance\n",
        "\n",
        ".stats #통계량\n",
        ".pmf  #확률질량함수 ~function()\n",
        ".cdf #확률누적분포함수\n",
        ".ppf #확률분위함수\n",
        "\"\"\""
      ]
    },
    {
      "cell_type": "code",
      "source": [
        "#베르누이 분포\n",
        "#결과가 두 가지인 시행\n",
        "#https://docs.scipy.org/doc/scipy/reference/generated/scipy.stats.bernoulli.html#scipy.stats.bernoulli\n",
        "p=.3\n",
        "E,V=stats.bernoulli.stats(p)\n",
        "#E,V=p, p*q\n",
        "print(E,V)"
      ],
      "metadata": {
        "colab": {
          "base_uri": "https://localhost:8080/"
        },
        "id": "mLf0nvXOcmmN",
        "outputId": "b6a958b4-4432-42ad-a80b-76e6e722a1a9"
      },
      "execution_count": 2,
      "outputs": [
        {
          "output_type": "stream",
          "name": "stdout",
          "text": [
            "0.3 0.21\n"
          ]
        }
      ]
    },
    {
      "cell_type": "code",
      "source": [
        "#이항분포\n",
        "#베르누이 시행을 n번 반복 시행\n",
        "#https://docs.scipy.org/doc/scipy/reference/generated/scipy.stats.binom.html#scipy.stats.binom\n",
        "n=10\n",
        "p=.4\n",
        "E,V=stats.binom.stats(n,p)\n",
        "#E,V=n*p, n*p*q\n",
        "print(E,V)"
      ],
      "metadata": {
        "colab": {
          "base_uri": "https://localhost:8080/"
        },
        "id": "ubvL7N2Hn8e7",
        "outputId": "6c9b3dd9-e9d5-4458-c94f-c9e2f47a1301"
      },
      "execution_count": 3,
      "outputs": [
        {
          "output_type": "stream",
          "name": "stdout",
          "text": [
            "4.0 2.4\n"
          ]
        }
      ]
    },
    {
      "cell_type": "code",
      "source": [
        "#음이항분포\n",
        "#성공확률이 p로 k번 성공까지 시행\n",
        "#https://docs.scipy.org/doc/scipy/reference/generated/scipy.stats.nbinom.html#scipy.stats.nbinom\n",
        "k=3\n",
        "p=.5\n",
        "E,V=stats.nbinom.stats(k,p)\n",
        "#E,V=k/p, k*q/p**2\n",
        "print(E,V)"
      ],
      "metadata": {
        "colab": {
          "base_uri": "https://localhost:8080/"
        },
        "id": "ob-XGVdZwIIE",
        "outputId": "7bb3cdaf-eaaa-40a8-d92e-86dbe3ffe02d"
      },
      "execution_count": 4,
      "outputs": [
        {
          "output_type": "stream",
          "name": "stdout",
          "text": [
            "3.0 6.0\n"
          ]
        }
      ]
    },
    {
      "cell_type": "code",
      "source": [
        "#기하분포\n",
        "#성공확률이 p로 첫 성공까지 시행\n",
        "#https://docs.scipy.org/doc/scipy/reference/generated/scipy.stats.geom.html#scipy.stats.geom\n",
        "p=.6\n",
        "E,V=stats.geom.stats(p)\n",
        "#E,V=1/p, q/p**2\n",
        "print(E,V)"
      ],
      "metadata": {
        "colab": {
          "base_uri": "https://localhost:8080/"
        },
        "id": "eUmhjFyixU6v",
        "outputId": "042ca6e4-4b1e-4f1a-ba93-15b5b8161b08"
      },
      "execution_count": 5,
      "outputs": [
        {
          "output_type": "stream",
          "name": "stdout",
          "text": [
            "1.6666666666666667 1.1111111111111114\n"
          ]
        }
      ]
    },
    {
      "cell_type": "code",
      "source": [
        "#초기하분포\n",
        "#비복원 추출로 N개중 k개는 성공으로 n회 시행\n",
        "#https://docs.scipy.org/doc/scipy/reference/generated/scipy.stats.hypergeom.html#scipy.stats.hypergeom\n",
        "N=35  #모집단 수\n",
        "k=5\n",
        "n=10\n",
        "E,V=stats.hypergeom.stats(N,k,n)\n",
        "#E=n*k/N\n",
        "print(E,V)"
      ],
      "metadata": {
        "colab": {
          "base_uri": "https://localhost:8080/"
        },
        "id": "1DhQJcR1x94m",
        "outputId": "336a9657-dad3-4670-8f1d-e7c9e2a3ace2"
      },
      "execution_count": 6,
      "outputs": [
        {
          "output_type": "stream",
          "name": "stdout",
          "text": [
            "1.4285714285714286 0.9003601440576231\n"
          ]
        }
      ]
    },
    {
      "cell_type": "code",
      "source": [
        "#포아송분포\n",
        "#단위시간동안 발생한 사건의 평균값(lambda)의 분포\n",
        "#https://docs.scipy.org/doc/scipy/reference/generated/scipy.stats.poisson.html#scipy.stats.poisson\n",
        "lam=3\n",
        "E,V=stats.poisson.stats(lam)\n",
        "#E,V=lambda\n",
        "print(E,V)"
      ],
      "metadata": {
        "colab": {
          "base_uri": "https://localhost:8080/"
        },
        "id": "CvjoZxui03QG",
        "outputId": "8b900e68-a2a1-486d-e8cf-d0aef07afa50"
      },
      "execution_count": 12,
      "outputs": [
        {
          "output_type": "stream",
          "name": "stdout",
          "text": [
            "3.0 3.0\n"
          ]
        }
      ]
    },
    {
      "cell_type": "code",
      "source": [
        "#9-2 연속형 확률분포\n",
        "continuous_introduction=\"\"\"\n",
        "loc=시작점  #기본값=0\n",
        "scale=범위(크기)  #기본값=1\n",
        "\n",
        "기댓값=E  #Expected\n",
        "분산=V  #Variance\n",
        "\n",
        ".stats #통계량\n",
        ".pdf  #확률밀도함수 ~function()\n",
        ".cdf #확률누적분포함수 > 구간확률\n",
        ".ppf #확률분위함수\n",
        "\"\"\""
      ],
      "metadata": {
        "id": "7rmFonaJ1viL"
      },
      "execution_count": 13,
      "outputs": []
    },
    {
      "cell_type": "code",
      "source": [
        "#균일분포\n",
        "#구간에 확률변수가 고르게 분포\n",
        "#https://docs.scipy.org/doc/scipy/reference/generated/scipy.stats.uniform.html#scipy.stats.uniform\n",
        "a,b=15,25\n",
        "E,V=stats.uniform.stats(loc=a,scale=b-a)\n",
        "#E,V=(a+b)/2, (b-a)**2/12\n",
        "print(E,V)"
      ],
      "metadata": {
        "colab": {
          "base_uri": "https://localhost:8080/"
        },
        "id": "OqwEs4MzCsCT",
        "outputId": "b4f9db7a-ac20-40f8-f2d1-e95b58df4851"
      },
      "execution_count": 18,
      "outputs": [
        {
          "output_type": "stream",
          "name": "stdout",
          "text": [
            "20.0 8.333333333333332\n"
          ]
        }
      ]
    },
    {
      "cell_type": "code",
      "source": [
        "#정규분포\n",
        "#평균이 뮤, 표준편차가 시그마\n",
        "#https://docs.scipy.org/doc/scipy/reference/generated/scipy.stats.norm.html#scipy.stats.norm\n",
        "mu,sigma=100,24\n",
        "E,V=stats.norm.stats(loc=mu,scale=sigma)\n",
        "#E,V=mu, sigma**2\n",
        "print(E,V)\n",
        "\n",
        "#표준정규분표\n",
        "#mu,sigma=0,1"
      ],
      "metadata": {
        "colab": {
          "base_uri": "https://localhost:8080/"
        },
        "id": "Ijo1HAwyGv5M",
        "outputId": "b4710122-60f6-416b-99ca-21173f69d774"
      },
      "execution_count": 19,
      "outputs": [
        {
          "output_type": "stream",
          "name": "stdout",
          "text": [
            "100.0 576.0\n"
          ]
        }
      ]
    },
    {
      "cell_type": "code",
      "source": [
        "#지수분포\n",
        "#한번의 사건이 일어날때까지 소요되는 평균시간이 lambda인 분포\n",
        "#https://docs.scipy.org/doc/scipy/reference/generated/scipy.stats.expon.html#scipy.stats.expon\n",
        "lam=1/4 #평균 4분에 한번 발생\n",
        "E,V=stats.expon.stats(scale=1/lam)\n",
        "#E,V=1/lam, 1/lam**2\n",
        "print(E,V)"
      ],
      "metadata": {
        "colab": {
          "base_uri": "https://localhost:8080/"
        },
        "id": "70QJBcLSG2Vf",
        "outputId": "b8f2f465-1754-4855-c506-5b858804f324"
      },
      "execution_count": 25,
      "outputs": [
        {
          "output_type": "stream",
          "name": "stdout",
          "text": [
            "4.0 16.0\n"
          ]
        }
      ]
    },
    {
      "cell_type": "code",
      "source": [
        "#감마분포\n",
        "#알파번의 사건이 발생할 때까지의 대기시간의 분포\n",
        "alpha=3\n",
        "lam=1/10\n",
        "beta=1/lam\n",
        "E,V=stats.gamma.stats(a=alpha,scale=1/lam)\n",
        "#E,V=alpha*beta, alpha*beta**2\n",
        "print(E,V)"
      ],
      "metadata": {
        "colab": {
          "base_uri": "https://localhost:8080/"
        },
        "id": "y0qzM9XcO99f",
        "outputId": "cce42c58-dd3e-41bc-d1b3-984adcfcdbb6"
      },
      "execution_count": 28,
      "outputs": [
        {
          "output_type": "stream",
          "name": "stdout",
          "text": [
            "30.0 300.0\n"
          ]
        }
      ]
    },
    {
      "cell_type": "code",
      "source": [
        "##10장에 이어짐\n",
        "#카이제곱분포\n",
        "#모집단이 정규분포인 표본에 모분산을 검정, 비모수검정 중 적합도 검정,독립성 검정, 동질성 검정에 사용\n",
        "#chi2\n",
        "\n",
        "#t분포\n",
        "#모분산을 모르는 상황에서 표본 평균을 검정\n",
        "#t\n",
        "\n",
        "#F분포\n",
        "#두 모집단의 모 분산비의 검정, 세집단 이상의 모평균 비고에 사용\n",
        "#F"
      ],
      "metadata": {
        "id": "73ajSaHSREiO"
      },
      "execution_count": null,
      "outputs": []
    }
  ]
}